{
 "cells": [
  {
   "cell_type": "markdown",
   "metadata": {},
   "source": [
    "### Note\n",
    "* Instructions have been included for each segment. You do not have to follow them exactly, but they are included to help you think through the steps."
   ]
  },
  {
   "cell_type": "code",
   "execution_count": 241,
   "metadata": {
    "tags": []
   },
   "outputs": [
    {
     "data": {
      "text/html": [
       "<div>\n",
       "<style scoped>\n",
       "    .dataframe tbody tr th:only-of-type {\n",
       "        vertical-align: middle;\n",
       "    }\n",
       "\n",
       "    .dataframe tbody tr th {\n",
       "        vertical-align: top;\n",
       "    }\n",
       "\n",
       "    .dataframe thead th {\n",
       "        text-align: right;\n",
       "    }\n",
       "</style>\n",
       "<table border=\"1\" class=\"dataframe\">\n",
       "  <thead>\n",
       "    <tr style=\"text-align: right;\">\n",
       "      <th></th>\n",
       "      <th>Student ID</th>\n",
       "      <th>student_name</th>\n",
       "      <th>gender</th>\n",
       "      <th>year</th>\n",
       "      <th>school_name</th>\n",
       "      <th>reading_score</th>\n",
       "      <th>maths_score</th>\n",
       "      <th>School ID</th>\n",
       "      <th>type</th>\n",
       "      <th>size</th>\n",
       "      <th>budget</th>\n",
       "    </tr>\n",
       "  </thead>\n",
       "  <tbody>\n",
       "    <tr>\n",
       "      <th>0</th>\n",
       "      <td>0</td>\n",
       "      <td>Paul Bradley</td>\n",
       "      <td>M</td>\n",
       "      <td>9</td>\n",
       "      <td>Huang High School</td>\n",
       "      <td>96</td>\n",
       "      <td>94</td>\n",
       "      <td>0</td>\n",
       "      <td>Government</td>\n",
       "      <td>2917</td>\n",
       "      <td>1910635</td>\n",
       "    </tr>\n",
       "    <tr>\n",
       "      <th>1</th>\n",
       "      <td>1</td>\n",
       "      <td>Victor Smith</td>\n",
       "      <td>M</td>\n",
       "      <td>12</td>\n",
       "      <td>Huang High School</td>\n",
       "      <td>90</td>\n",
       "      <td>43</td>\n",
       "      <td>0</td>\n",
       "      <td>Government</td>\n",
       "      <td>2917</td>\n",
       "      <td>1910635</td>\n",
       "    </tr>\n",
       "    <tr>\n",
       "      <th>2</th>\n",
       "      <td>2</td>\n",
       "      <td>Kevin Rodriguez</td>\n",
       "      <td>M</td>\n",
       "      <td>12</td>\n",
       "      <td>Huang High School</td>\n",
       "      <td>41</td>\n",
       "      <td>76</td>\n",
       "      <td>0</td>\n",
       "      <td>Government</td>\n",
       "      <td>2917</td>\n",
       "      <td>1910635</td>\n",
       "    </tr>\n",
       "    <tr>\n",
       "      <th>3</th>\n",
       "      <td>3</td>\n",
       "      <td>Richard Scott</td>\n",
       "      <td>M</td>\n",
       "      <td>12</td>\n",
       "      <td>Huang High School</td>\n",
       "      <td>89</td>\n",
       "      <td>86</td>\n",
       "      <td>0</td>\n",
       "      <td>Government</td>\n",
       "      <td>2917</td>\n",
       "      <td>1910635</td>\n",
       "    </tr>\n",
       "    <tr>\n",
       "      <th>4</th>\n",
       "      <td>4</td>\n",
       "      <td>Bonnie Ray</td>\n",
       "      <td>F</td>\n",
       "      <td>9</td>\n",
       "      <td>Huang High School</td>\n",
       "      <td>87</td>\n",
       "      <td>69</td>\n",
       "      <td>0</td>\n",
       "      <td>Government</td>\n",
       "      <td>2917</td>\n",
       "      <td>1910635</td>\n",
       "    </tr>\n",
       "  </tbody>\n",
       "</table>\n",
       "</div>"
      ],
      "text/plain": [
       "   Student ID     student_name gender  year        school_name  reading_score  \\\n",
       "0           0     Paul Bradley      M     9  Huang High School             96   \n",
       "1           1     Victor Smith      M    12  Huang High School             90   \n",
       "2           2  Kevin Rodriguez      M    12  Huang High School             41   \n",
       "3           3    Richard Scott      M    12  Huang High School             89   \n",
       "4           4       Bonnie Ray      F     9  Huang High School             87   \n",
       "\n",
       "   maths_score  School ID        type  size   budget  \n",
       "0           94          0  Government  2917  1910635  \n",
       "1           43          0  Government  2917  1910635  \n",
       "2           76          0  Government  2917  1910635  \n",
       "3           86          0  Government  2917  1910635  \n",
       "4           69          0  Government  2917  1910635  "
      ]
     },
     "execution_count": 241,
     "metadata": {},
     "output_type": "execute_result"
    }
   ],
   "source": [
    "# Dependencies and Setup\n",
    "import pandas as pd\n",
    "from pathlib import Path\n",
    "\n",
    "# File to Load (Remember to Change These)\n",
    "school_data_to_load = Path(\"Resources/schools_complete.csv\")\n",
    "student_data_to_load = Path(\"Resources/students_complete.csv\")\n",
    "\n",
    "# Read School and Student Data File and store into Pandas DataFrames\n",
    "school_data = pd.read_csv(school_data_to_load)\n",
    "student_data = pd.read_csv(student_data_to_load)\n",
    "\n",
    "# Combine the data into a single dataset.  \n",
    "school_data_complete = pd.merge(student_data, school_data, how=\"left\", on=[\"school_name\", \"school_name\"])\n",
    "school_data_complete .head()"
   ]
  },
  {
   "cell_type": "markdown",
   "metadata": {
    "tags": []
   },
   "source": []
  },
  {
   "cell_type": "markdown",
   "metadata": {},
   "source": [
    "## Local Government Area Summary\n",
    "\n",
    "* Calculate the total number of schools\n",
    "\n",
    "* Calculate the total number of students\n",
    "\n",
    "* Calculate the total budget\n",
    "\n",
    "* Calculate the average maths score \n",
    "\n",
    "* Calculate the average reading score\n",
    "\n",
    "* Calculate the percentage of students with a passing maths score (50 or greater)\n",
    "\n",
    "* Calculate the percentage of students with a passing reading score (50 or greater)\n",
    "\n",
    "* Calculate the percentage of students who passed maths **and** reading (% Overall Passing)\n",
    "\n",
    "* Create a dataframe to hold the above results\n",
    "\n",
    "* Optional: give the displayed data cleaner formatting"
   ]
  },
  {
   "cell_type": "code",
   "execution_count": 242,
   "metadata": {
    "tags": []
   },
   "outputs": [
    {
     "data": {
      "text/plain": [
       "15"
      ]
     },
     "execution_count": 242,
     "metadata": {},
     "output_type": "execute_result"
    }
   ],
   "source": [
    "# Calculate the total number of schools\n",
    "\n",
    "schools_name = school_data_complete [\"school_name\"].unique()\n",
    "total_number_of_schools = len(schools_name)\n",
    "total_number_of_schools"
   ]
  },
  {
   "cell_type": "code",
   "execution_count": 243,
   "metadata": {
    "tags": []
   },
   "outputs": [
    {
     "data": {
      "text/plain": [
       "39170"
      ]
     },
     "execution_count": 243,
     "metadata": {},
     "output_type": "execute_result"
    }
   ],
   "source": [
    "# Calculate the total number of students\n",
    "\n",
    "total_number_of_students = student_data [\"student_name\"].count()\n",
    "total_number_of_students"
   ]
  },
  {
   "cell_type": "code",
   "execution_count": 244,
   "metadata": {
    "tags": []
   },
   "outputs": [
    {
     "data": {
      "text/plain": [
       "24649428"
      ]
     },
     "execution_count": 244,
     "metadata": {},
     "output_type": "execute_result"
    }
   ],
   "source": [
    "# Calculate the total budget\n",
    "\n",
    "total_budget = school_data[\"budget\"].sum()\n",
    "total_budget"
   ]
  },
  {
   "cell_type": "code",
   "execution_count": 245,
   "metadata": {
    "tags": []
   },
   "outputs": [
    {
     "data": {
      "text/plain": [
       "70.33819249425581"
      ]
     },
     "execution_count": 245,
     "metadata": {},
     "output_type": "execute_result"
    }
   ],
   "source": [
    "# Calculate the average maths score\n",
    "\n",
    "average_maths_score = school_data_complete [\"maths_score\"].mean()\n",
    "average_maths_score "
   ]
  },
  {
   "cell_type": "code",
   "execution_count": 246,
   "metadata": {
    "tags": []
   },
   "outputs": [
    {
     "data": {
      "text/plain": [
       "69.98013786060761"
      ]
     },
     "execution_count": 246,
     "metadata": {},
     "output_type": "execute_result"
    }
   ],
   "source": [
    "average_reading_score = school_data_complete [\"reading_score\"].mean()\n",
    "average_reading_score "
   ]
  },
  {
   "cell_type": "code",
   "execution_count": 247,
   "metadata": {
    "tags": []
   },
   "outputs": [
    {
     "data": {
      "text/plain": [
       "86.07863160582077"
      ]
     },
     "execution_count": 247,
     "metadata": {},
     "output_type": "execute_result"
    }
   ],
   "source": [
    "# Calculate the percentage of students with a passing maths score (50 or greater)\n",
    "\n",
    "students_passing_maths = school_data_complete.loc[school_data_complete [\"maths_score\"] >= 50]\n",
    "number_students_passing_maths = students_passing_maths [\"student_name\"].count()\n",
    "percentage_students_passing_maths = ( number_students_passing_maths / total_number_of_students)*100\n",
    "percentage_students_passing_maths                                                 \n",
    "  \n",
    "   "
   ]
  },
  {
   "cell_type": "code",
   "execution_count": 248,
   "metadata": {
    "tags": []
   },
   "outputs": [
    {
     "data": {
      "text/plain": [
       "84.42685728874139"
      ]
     },
     "execution_count": 248,
     "metadata": {},
     "output_type": "execute_result"
    }
   ],
   "source": [
    "# Calculate the percentage of students with a passing reading score (50 or greater)\n",
    "\n",
    "students_passing_reading =  school_data_complete.loc[school_data_complete [\"reading_score\"] >= 50] \n",
    "number_students_passing_reading = students_passing_reading [\"reading_score\"].count()\n",
    "percentage_students_passing_reading = (number_students_passing_reading / total_number_of_students)*100\n",
    "percentage_students_passing_reading"
   ]
  },
  {
   "cell_type": "code",
   "execution_count": 249,
   "metadata": {
    "tags": []
   },
   "outputs": [
    {
     "data": {
      "text/plain": [
       "72.80827163645647"
      ]
     },
     "execution_count": 249,
     "metadata": {},
     "output_type": "execute_result"
    }
   ],
   "source": [
    "# Calculate the percentage of students who passed maths **and** reading (% Overall Passing)\n",
    "\n",
    "overall_passing =school_data_complete[(school_data_complete [\"maths_score\"] >= 50) & (school_data_complete [\"reading_score\"] >= 50)][\"Student ID\"].count()/total_number_of_students*100\n",
    "overall_passing\n",
    "\n",
    "\n",
    "\n"
   ]
  },
  {
   "cell_type": "code",
   "execution_count": 250,
   "metadata": {
    "tags": []
   },
   "outputs": [
    {
     "data": {
      "text/html": [
       "<div>\n",
       "<style scoped>\n",
       "    .dataframe tbody tr th:only-of-type {\n",
       "        vertical-align: middle;\n",
       "    }\n",
       "\n",
       "    .dataframe tbody tr th {\n",
       "        vertical-align: top;\n",
       "    }\n",
       "\n",
       "    .dataframe thead th {\n",
       "        text-align: right;\n",
       "    }\n",
       "</style>\n",
       "<table border=\"1\" class=\"dataframe\">\n",
       "  <thead>\n",
       "    <tr style=\"text-align: right;\">\n",
       "      <th></th>\n",
       "      <th>Total Schools</th>\n",
       "      <th>Total Students</th>\n",
       "      <th>Total Budget</th>\n",
       "      <th>Average Maths Score</th>\n",
       "      <th>Average Reading Score</th>\n",
       "      <th>% Passing Maths</th>\n",
       "      <th>% Passing Reading</th>\n",
       "      <th>% Overall Passing</th>\n",
       "    </tr>\n",
       "  </thead>\n",
       "  <tbody>\n",
       "    <tr>\n",
       "      <th>0</th>\n",
       "      <td>15</td>\n",
       "      <td>39170</td>\n",
       "      <td>$24,649,428.00</td>\n",
       "      <td>70.338192</td>\n",
       "      <td>69.980138</td>\n",
       "      <td>86.078632</td>\n",
       "      <td>84.426857</td>\n",
       "      <td>72.808272</td>\n",
       "    </tr>\n",
       "  </tbody>\n",
       "</table>\n",
       "</div>"
      ],
      "text/plain": [
       "   Total Schools  Total Students    Total Budget  Average Maths Score  \\\n",
       "0             15           39170  $24,649,428.00            70.338192   \n",
       "\n",
       "   Average Reading Score  % Passing Maths  % Passing Reading  \\\n",
       "0              69.980138        86.078632          84.426857   \n",
       "\n",
       "   % Overall Passing  \n",
       "0          72.808272  "
      ]
     },
     "execution_count": 250,
     "metadata": {},
     "output_type": "execute_result"
    }
   ],
   "source": [
    "# Create a dataframe to hold the above results\n",
    "goverment_summary = pd.DataFrame ({\n",
    "   \"Total Schools\": total_number_of_schools,\n",
    "    \"Total Students\": total_number_of_students, \n",
    "    \"Total Budget\":total_budget, \n",
    "    \"Average Maths Score\": average_maths_score,\n",
    "    \"Average Reading Score\": average_reading_score,\n",
    "    \"% Passing Maths\" : percentage_students_passing_maths,\n",
    "    \"% Passing Reading\": percentage_students_passing_reading,\n",
    "    \"% Overall Passing\":overall_passing }, index = [0])\n",
    "\n",
    "goverment_summary [\"Total Budget\"] = goverment_summary [\"Total Budget\"].map (\"${:,.2f}\".format)\n",
    "goverment_summary "
   ]
  },
  {
   "cell_type": "markdown",
   "metadata": {
    "tags": []
   },
   "source": [
    "## School Summary"
   ]
  },
  {
   "cell_type": "markdown",
   "metadata": {},
   "source": [
    "* Create an overview table that summarises key metrics about each school, including:\n",
    "  * School Name\n",
    "  * School Type\n",
    "  * Total Students\n",
    "  * Total School Budget\n",
    "  * Per Student Budget\n",
    "  * Average Maths Score\n",
    "  * Average Reading Score\n",
    "  * % Passing Maths\n",
    "  * % Passing Reading\n",
    "  * % Overall Passing (The percentage of students that passed maths **and** reading.)\n",
    "  \n",
    "* Create a dataframe to hold the above results"
   ]
  },
  {
   "cell_type": "code",
   "execution_count": 251,
   "metadata": {
    "tags": []
   },
   "outputs": [],
   "source": [
    "# School Name\n",
    "school_name_total = school_data_complete.set_index(\"school_name\").groupby ([\"school_name\"])\n"
   ]
  },
  {
   "cell_type": "code",
   "execution_count": 252,
   "metadata": {
    "tags": []
   },
   "outputs": [],
   "source": [
    "# School Type\n",
    "school_type = school_data.set_index(\"school_name\") [\"type\"]\n",
    "#school_type.shape"
   ]
  },
  {
   "cell_type": "code",
   "execution_count": 253,
   "metadata": {
    "tags": []
   },
   "outputs": [],
   "source": [
    "# Total Students\n",
    "total_students = school_name_total [\"Student ID\"].count()\n",
    "#school_type.shape"
   ]
  },
  {
   "cell_type": "code",
   "execution_count": 254,
   "metadata": {
    "tags": []
   },
   "outputs": [],
   "source": [
    "# Total School Budget\n",
    "total_school_budget = school_data.set_index(\"school_name\") [\"budget\"]\n",
    "#total_school_budget.shape"
   ]
  },
  {
   "cell_type": "code",
   "execution_count": 255,
   "metadata": {
    "tags": []
   },
   "outputs": [],
   "source": [
    "# Per Student Budget\n",
    "budget_per_student = (school_data.set_index (\"school_name\") [\"budget\"] / school_data.set_index (\"school_name\") [\"size\"])\n",
    "#budget_per_student.shape"
   ]
  },
  {
   "cell_type": "code",
   "execution_count": 256,
   "metadata": {
    "tags": []
   },
   "outputs": [],
   "source": [
    "# Average Maths Score\n",
    "average_maths_score = school_name_total[\"maths_score\"].mean()\n",
    "#average_maths_score.shape"
   ]
  },
  {
   "cell_type": "code",
   "execution_count": 257,
   "metadata": {
    "tags": []
   },
   "outputs": [],
   "source": [
    "# Average Reading Score\n",
    "average_reading_score =  school_name_total [\"reading_score\"].mean()\n",
    "#average_reading_score.shape"
   ]
  },
  {
   "cell_type": "code",
   "execution_count": 258,
   "metadata": {
    "tags": []
   },
   "outputs": [],
   "source": [
    "# % Passing Maths\n",
    "students_passing_maths = school_data_complete[school_data_complete [\"maths_score\"] >= 50].groupby (\"school_name\")[\"Student ID\"]. count()/total_students*100\n",
    "\n",
    "#students_passing_maths.shape"
   ]
  },
  {
   "cell_type": "code",
   "execution_count": 259,
   "metadata": {
    "tags": []
   },
   "outputs": [],
   "source": [
    "# % Passing Reading\n",
    "students_passing_reading = school_data_complete[school_data_complete [\"reading_score\"] >= 50].groupby (\"school_name\")[\"Student ID\"].count()/total_students*100\n",
    "#students_passing_reading.shape"
   ]
  },
  {
   "cell_type": "code",
   "execution_count": 260,
   "metadata": {
    "tags": []
   },
   "outputs": [],
   "source": [
    "# % Overall Passing (The percentage of students that passed maths and reading.)\n",
    "\n",
    "overall_passing = school_data_complete[(school_data_complete[\"reading_score\"] >= 50) & (school_data_complete[\"maths_score\"] >= 50)]. groupby (\"school_name\")[\"Student ID\"].count()/total_students*100\n",
    "#overall_passing.shape\n",
    "\n"
   ]
  },
  {
   "cell_type": "code",
   "execution_count": 261,
   "metadata": {
    "tags": []
   },
   "outputs": [
    {
     "data": {
      "text/html": [
       "<style type=\"text/css\">\n",
       "</style>\n",
       "<table id=\"T_68014\">\n",
       "  <thead>\n",
       "    <tr>\n",
       "      <th class=\"blank level0\" >&nbsp;</th>\n",
       "      <th id=\"T_68014_level0_col0\" class=\"col_heading level0 col0\" >School Type</th>\n",
       "      <th id=\"T_68014_level0_col1\" class=\"col_heading level0 col1\" >Total Students</th>\n",
       "      <th id=\"T_68014_level0_col2\" class=\"col_heading level0 col2\" >Total School Budget</th>\n",
       "      <th id=\"T_68014_level0_col3\" class=\"col_heading level0 col3\" >Per Student Budget</th>\n",
       "      <th id=\"T_68014_level0_col4\" class=\"col_heading level0 col4\" >Average Maths Score</th>\n",
       "      <th id=\"T_68014_level0_col5\" class=\"col_heading level0 col5\" >Average Reading Score</th>\n",
       "      <th id=\"T_68014_level0_col6\" class=\"col_heading level0 col6\" >% Passing Maths</th>\n",
       "      <th id=\"T_68014_level0_col7\" class=\"col_heading level0 col7\" >% Passing Reading</th>\n",
       "      <th id=\"T_68014_level0_col8\" class=\"col_heading level0 col8\" >% Overall Passing</th>\n",
       "    </tr>\n",
       "    <tr>\n",
       "      <th class=\"index_name level0\" >school_name</th>\n",
       "      <th class=\"blank col0\" >&nbsp;</th>\n",
       "      <th class=\"blank col1\" >&nbsp;</th>\n",
       "      <th class=\"blank col2\" >&nbsp;</th>\n",
       "      <th class=\"blank col3\" >&nbsp;</th>\n",
       "      <th class=\"blank col4\" >&nbsp;</th>\n",
       "      <th class=\"blank col5\" >&nbsp;</th>\n",
       "      <th class=\"blank col6\" >&nbsp;</th>\n",
       "      <th class=\"blank col7\" >&nbsp;</th>\n",
       "      <th class=\"blank col8\" >&nbsp;</th>\n",
       "    </tr>\n",
       "  </thead>\n",
       "  <tbody>\n",
       "    <tr>\n",
       "      <th id=\"T_68014_level0_row0\" class=\"row_heading level0 row0\" >Bailey High School</th>\n",
       "      <td id=\"T_68014_row0_col0\" class=\"data row0 col0\" >Government</td>\n",
       "      <td id=\"T_68014_row0_col1\" class=\"data row0 col1\" >4976</td>\n",
       "      <td id=\"T_68014_row0_col2\" class=\"data row0 col2\" >$3,124,928.00</td>\n",
       "      <td id=\"T_68014_row0_col3\" class=\"data row0 col3\" >$628.00</td>\n",
       "      <td id=\"T_68014_row0_col4\" class=\"data row0 col4\" >72.352894</td>\n",
       "      <td id=\"T_68014_row0_col5\" class=\"data row0 col5\" >71.008842</td>\n",
       "      <td id=\"T_68014_row0_col6\" class=\"data row0 col6\" >91.639871</td>\n",
       "      <td id=\"T_68014_row0_col7\" class=\"data row0 col7\" >87.379421</td>\n",
       "      <td id=\"T_68014_row0_col8\" class=\"data row0 col8\" >80.084405</td>\n",
       "    </tr>\n",
       "    <tr>\n",
       "      <th id=\"T_68014_level0_row1\" class=\"row_heading level0 row1\" >Cabrera High School</th>\n",
       "      <td id=\"T_68014_row1_col0\" class=\"data row1 col0\" >Independent</td>\n",
       "      <td id=\"T_68014_row1_col1\" class=\"data row1 col1\" >1858</td>\n",
       "      <td id=\"T_68014_row1_col2\" class=\"data row1 col2\" >$1,081,356.00</td>\n",
       "      <td id=\"T_68014_row1_col3\" class=\"data row1 col3\" >$582.00</td>\n",
       "      <td id=\"T_68014_row1_col4\" class=\"data row1 col4\" >71.657158</td>\n",
       "      <td id=\"T_68014_row1_col5\" class=\"data row1 col5\" >71.359526</td>\n",
       "      <td id=\"T_68014_row1_col6\" class=\"data row1 col6\" >90.850377</td>\n",
       "      <td id=\"T_68014_row1_col7\" class=\"data row1 col7\" >89.074273</td>\n",
       "      <td id=\"T_68014_row1_col8\" class=\"data row1 col8\" >80.785791</td>\n",
       "    </tr>\n",
       "    <tr>\n",
       "      <th id=\"T_68014_level0_row2\" class=\"row_heading level0 row2\" >Figueroa High School</th>\n",
       "      <td id=\"T_68014_row2_col0\" class=\"data row2 col0\" >Government</td>\n",
       "      <td id=\"T_68014_row2_col1\" class=\"data row2 col1\" >2949</td>\n",
       "      <td id=\"T_68014_row2_col2\" class=\"data row2 col2\" >$1,884,411.00</td>\n",
       "      <td id=\"T_68014_row2_col3\" class=\"data row2 col3\" >$639.00</td>\n",
       "      <td id=\"T_68014_row2_col4\" class=\"data row2 col4\" >68.698542</td>\n",
       "      <td id=\"T_68014_row2_col5\" class=\"data row2 col5\" >69.077993</td>\n",
       "      <td id=\"T_68014_row2_col6\" class=\"data row2 col6\" >81.654798</td>\n",
       "      <td id=\"T_68014_row2_col7\" class=\"data row2 col7\" >82.807731</td>\n",
       "      <td id=\"T_68014_row2_col8\" class=\"data row2 col8\" >67.650051</td>\n",
       "    </tr>\n",
       "    <tr>\n",
       "      <th id=\"T_68014_level0_row3\" class=\"row_heading level0 row3\" >Ford High School</th>\n",
       "      <td id=\"T_68014_row3_col0\" class=\"data row3 col0\" >Government</td>\n",
       "      <td id=\"T_68014_row3_col1\" class=\"data row3 col1\" >2739</td>\n",
       "      <td id=\"T_68014_row3_col2\" class=\"data row3 col2\" >$1,763,916.00</td>\n",
       "      <td id=\"T_68014_row3_col3\" class=\"data row3 col3\" >$644.00</td>\n",
       "      <td id=\"T_68014_row3_col4\" class=\"data row3 col4\" >69.091274</td>\n",
       "      <td id=\"T_68014_row3_col5\" class=\"data row3 col5\" >69.572472</td>\n",
       "      <td id=\"T_68014_row3_col6\" class=\"data row3 col6\" >82.438846</td>\n",
       "      <td id=\"T_68014_row3_col7\" class=\"data row3 col7\" >82.219788</td>\n",
       "      <td id=\"T_68014_row3_col8\" class=\"data row3 col8\" >67.469880</td>\n",
       "    </tr>\n",
       "    <tr>\n",
       "      <th id=\"T_68014_level0_row4\" class=\"row_heading level0 row4\" >Griffin High School</th>\n",
       "      <td id=\"T_68014_row4_col0\" class=\"data row4 col0\" >Independent</td>\n",
       "      <td id=\"T_68014_row4_col1\" class=\"data row4 col1\" >1468</td>\n",
       "      <td id=\"T_68014_row4_col2\" class=\"data row4 col2\" >$917,500.00</td>\n",
       "      <td id=\"T_68014_row4_col3\" class=\"data row4 col3\" >$625.00</td>\n",
       "      <td id=\"T_68014_row4_col4\" class=\"data row4 col4\" >71.788147</td>\n",
       "      <td id=\"T_68014_row4_col5\" class=\"data row4 col5\" >71.245232</td>\n",
       "      <td id=\"T_68014_row4_col6\" class=\"data row4 col6\" >91.212534</td>\n",
       "      <td id=\"T_68014_row4_col7\" class=\"data row4 col7\" >88.487738</td>\n",
       "      <td id=\"T_68014_row4_col8\" class=\"data row4 col8\" >81.335150</td>\n",
       "    </tr>\n",
       "    <tr>\n",
       "      <th id=\"T_68014_level0_row5\" class=\"row_heading level0 row5\" >Hernandez High School</th>\n",
       "      <td id=\"T_68014_row5_col0\" class=\"data row5 col0\" >Government</td>\n",
       "      <td id=\"T_68014_row5_col1\" class=\"data row5 col1\" >4635</td>\n",
       "      <td id=\"T_68014_row5_col2\" class=\"data row5 col2\" >$3,022,020.00</td>\n",
       "      <td id=\"T_68014_row5_col3\" class=\"data row5 col3\" >$652.00</td>\n",
       "      <td id=\"T_68014_row5_col4\" class=\"data row5 col4\" >68.874865</td>\n",
       "      <td id=\"T_68014_row5_col5\" class=\"data row5 col5\" >69.186408</td>\n",
       "      <td id=\"T_68014_row5_col6\" class=\"data row5 col6\" >80.949299</td>\n",
       "      <td id=\"T_68014_row5_col7\" class=\"data row5 col7\" >81.877023</td>\n",
       "      <td id=\"T_68014_row5_col8\" class=\"data row5 col8\" >66.364617</td>\n",
       "    </tr>\n",
       "    <tr>\n",
       "      <th id=\"T_68014_level0_row6\" class=\"row_heading level0 row6\" >Holden High School</th>\n",
       "      <td id=\"T_68014_row6_col0\" class=\"data row6 col0\" >Independent</td>\n",
       "      <td id=\"T_68014_row6_col1\" class=\"data row6 col1\" >427</td>\n",
       "      <td id=\"T_68014_row6_col2\" class=\"data row6 col2\" >$248,087.00</td>\n",
       "      <td id=\"T_68014_row6_col3\" class=\"data row6 col3\" >$581.00</td>\n",
       "      <td id=\"T_68014_row6_col4\" class=\"data row6 col4\" >72.583138</td>\n",
       "      <td id=\"T_68014_row6_col5\" class=\"data row6 col5\" >71.660422</td>\n",
       "      <td id=\"T_68014_row6_col6\" class=\"data row6 col6\" >89.929742</td>\n",
       "      <td id=\"T_68014_row6_col7\" class=\"data row6 col7\" >88.524590</td>\n",
       "      <td id=\"T_68014_row6_col8\" class=\"data row6 col8\" >78.922717</td>\n",
       "    </tr>\n",
       "    <tr>\n",
       "      <th id=\"T_68014_level0_row7\" class=\"row_heading level0 row7\" >Huang High School</th>\n",
       "      <td id=\"T_68014_row7_col0\" class=\"data row7 col0\" >Government</td>\n",
       "      <td id=\"T_68014_row7_col1\" class=\"data row7 col1\" >2917</td>\n",
       "      <td id=\"T_68014_row7_col2\" class=\"data row7 col2\" >$1,910,635.00</td>\n",
       "      <td id=\"T_68014_row7_col3\" class=\"data row7 col3\" >$655.00</td>\n",
       "      <td id=\"T_68014_row7_col4\" class=\"data row7 col4\" >68.935207</td>\n",
       "      <td id=\"T_68014_row7_col5\" class=\"data row7 col5\" >68.910525</td>\n",
       "      <td id=\"T_68014_row7_col6\" class=\"data row7 col6\" >81.693521</td>\n",
       "      <td id=\"T_68014_row7_col7\" class=\"data row7 col7\" >81.453548</td>\n",
       "      <td id=\"T_68014_row7_col8\" class=\"data row7 col8\" >66.712376</td>\n",
       "    </tr>\n",
       "    <tr>\n",
       "      <th id=\"T_68014_level0_row8\" class=\"row_heading level0 row8\" >Johnson High School</th>\n",
       "      <td id=\"T_68014_row8_col0\" class=\"data row8 col0\" >Government</td>\n",
       "      <td id=\"T_68014_row8_col1\" class=\"data row8 col1\" >4761</td>\n",
       "      <td id=\"T_68014_row8_col2\" class=\"data row8 col2\" >$3,094,650.00</td>\n",
       "      <td id=\"T_68014_row8_col3\" class=\"data row8 col3\" >$650.00</td>\n",
       "      <td id=\"T_68014_row8_col4\" class=\"data row8 col4\" >68.843100</td>\n",
       "      <td id=\"T_68014_row8_col5\" class=\"data row8 col5\" >69.039277</td>\n",
       "      <td id=\"T_68014_row8_col6\" class=\"data row8 col6\" >82.062592</td>\n",
       "      <td id=\"T_68014_row8_col7\" class=\"data row8 col7\" >81.978576</td>\n",
       "      <td id=\"T_68014_row8_col8\" class=\"data row8 col8\" >67.191766</td>\n",
       "    </tr>\n",
       "    <tr>\n",
       "      <th id=\"T_68014_level0_row9\" class=\"row_heading level0 row9\" >Pena High School</th>\n",
       "      <td id=\"T_68014_row9_col0\" class=\"data row9 col0\" >Independent</td>\n",
       "      <td id=\"T_68014_row9_col1\" class=\"data row9 col1\" >962</td>\n",
       "      <td id=\"T_68014_row9_col2\" class=\"data row9 col2\" >$585,858.00</td>\n",
       "      <td id=\"T_68014_row9_col3\" class=\"data row9 col3\" >$609.00</td>\n",
       "      <td id=\"T_68014_row9_col4\" class=\"data row9 col4\" >72.088358</td>\n",
       "      <td id=\"T_68014_row9_col5\" class=\"data row9 col5\" >71.613306</td>\n",
       "      <td id=\"T_68014_row9_col6\" class=\"data row9 col6\" >91.683992</td>\n",
       "      <td id=\"T_68014_row9_col7\" class=\"data row9 col7\" >86.590437</td>\n",
       "      <td id=\"T_68014_row9_col8\" class=\"data row9 col8\" >79.209979</td>\n",
       "    </tr>\n",
       "    <tr>\n",
       "      <th id=\"T_68014_level0_row10\" class=\"row_heading level0 row10\" >Rodriguez High School</th>\n",
       "      <td id=\"T_68014_row10_col0\" class=\"data row10 col0\" >Government</td>\n",
       "      <td id=\"T_68014_row10_col1\" class=\"data row10 col1\" >3999</td>\n",
       "      <td id=\"T_68014_row10_col2\" class=\"data row10 col2\" >$2,547,363.00</td>\n",
       "      <td id=\"T_68014_row10_col3\" class=\"data row10 col3\" >$637.00</td>\n",
       "      <td id=\"T_68014_row10_col4\" class=\"data row10 col4\" >72.047762</td>\n",
       "      <td id=\"T_68014_row10_col5\" class=\"data row10 col5\" >70.935984</td>\n",
       "      <td id=\"T_68014_row10_col6\" class=\"data row10 col6\" >90.797699</td>\n",
       "      <td id=\"T_68014_row10_col7\" class=\"data row10 col7\" >87.396849</td>\n",
       "      <td id=\"T_68014_row10_col8\" class=\"data row10 col8\" >79.419855</td>\n",
       "    </tr>\n",
       "    <tr>\n",
       "      <th id=\"T_68014_level0_row11\" class=\"row_heading level0 row11\" >Shelton High School</th>\n",
       "      <td id=\"T_68014_row11_col0\" class=\"data row11 col0\" >Independent</td>\n",
       "      <td id=\"T_68014_row11_col1\" class=\"data row11 col1\" >1761</td>\n",
       "      <td id=\"T_68014_row11_col2\" class=\"data row11 col2\" >$1,056,600.00</td>\n",
       "      <td id=\"T_68014_row11_col3\" class=\"data row11 col3\" >$600.00</td>\n",
       "      <td id=\"T_68014_row11_col4\" class=\"data row11 col4\" >72.034072</td>\n",
       "      <td id=\"T_68014_row11_col5\" class=\"data row11 col5\" >70.257808</td>\n",
       "      <td id=\"T_68014_row11_col6\" class=\"data row11 col6\" >91.538898</td>\n",
       "      <td id=\"T_68014_row11_col7\" class=\"data row11 col7\" >86.712095</td>\n",
       "      <td id=\"T_68014_row11_col8\" class=\"data row11 col8\" >78.875639</td>\n",
       "    </tr>\n",
       "    <tr>\n",
       "      <th id=\"T_68014_level0_row12\" class=\"row_heading level0 row12\" >Thomas High School</th>\n",
       "      <td id=\"T_68014_row12_col0\" class=\"data row12 col0\" >Independent</td>\n",
       "      <td id=\"T_68014_row12_col1\" class=\"data row12 col1\" >1635</td>\n",
       "      <td id=\"T_68014_row12_col2\" class=\"data row12 col2\" >$1,043,130.00</td>\n",
       "      <td id=\"T_68014_row12_col3\" class=\"data row12 col3\" >$638.00</td>\n",
       "      <td id=\"T_68014_row12_col4\" class=\"data row12 col4\" >69.581651</td>\n",
       "      <td id=\"T_68014_row12_col5\" class=\"data row12 col5\" >69.768807</td>\n",
       "      <td id=\"T_68014_row12_col6\" class=\"data row12 col6\" >83.853211</td>\n",
       "      <td id=\"T_68014_row12_col7\" class=\"data row12 col7\" >82.629969</td>\n",
       "      <td id=\"T_68014_row12_col8\" class=\"data row12 col8\" >69.480122</td>\n",
       "    </tr>\n",
       "    <tr>\n",
       "      <th id=\"T_68014_level0_row13\" class=\"row_heading level0 row13\" >Wilson High School</th>\n",
       "      <td id=\"T_68014_row13_col0\" class=\"data row13 col0\" >Independent</td>\n",
       "      <td id=\"T_68014_row13_col1\" class=\"data row13 col1\" >2283</td>\n",
       "      <td id=\"T_68014_row13_col2\" class=\"data row13 col2\" >$1,319,574.00</td>\n",
       "      <td id=\"T_68014_row13_col3\" class=\"data row13 col3\" >$578.00</td>\n",
       "      <td id=\"T_68014_row13_col4\" class=\"data row13 col4\" >69.170828</td>\n",
       "      <td id=\"T_68014_row13_col5\" class=\"data row13 col5\" >68.876916</td>\n",
       "      <td id=\"T_68014_row13_col6\" class=\"data row13 col6\" >82.785808</td>\n",
       "      <td id=\"T_68014_row13_col7\" class=\"data row13 col7\" >81.296540</td>\n",
       "      <td id=\"T_68014_row13_col8\" class=\"data row13 col8\" >67.455103</td>\n",
       "    </tr>\n",
       "    <tr>\n",
       "      <th id=\"T_68014_level0_row14\" class=\"row_heading level0 row14\" >Wright High School</th>\n",
       "      <td id=\"T_68014_row14_col0\" class=\"data row14 col0\" >Independent</td>\n",
       "      <td id=\"T_68014_row14_col1\" class=\"data row14 col1\" >1800</td>\n",
       "      <td id=\"T_68014_row14_col2\" class=\"data row14 col2\" >$1,049,400.00</td>\n",
       "      <td id=\"T_68014_row14_col3\" class=\"data row14 col3\" >$583.00</td>\n",
       "      <td id=\"T_68014_row14_col4\" class=\"data row14 col4\" >72.047222</td>\n",
       "      <td id=\"T_68014_row14_col5\" class=\"data row14 col5\" >70.969444</td>\n",
       "      <td id=\"T_68014_row14_col6\" class=\"data row14 col6\" >91.777778</td>\n",
       "      <td id=\"T_68014_row14_col7\" class=\"data row14 col7\" >86.666667</td>\n",
       "      <td id=\"T_68014_row14_col8\" class=\"data row14 col8\" >79.722222</td>\n",
       "    </tr>\n",
       "  </tbody>\n",
       "</table>\n"
      ],
      "text/plain": [
       "<pandas.io.formats.style.Styler at 0x1f2c9b55590>"
      ]
     },
     "execution_count": 261,
     "metadata": {},
     "output_type": "execute_result"
    }
   ],
   "source": [
    "# Create a dataframe to hold the above results\n",
    "\n",
    "school_summary_df = pd.DataFrame({ \"School Type\": school_type, \"Total Students\": total_students, \n",
    "                               \"Per Student Budget\": budget_per_student,\"Total School Budget\": total_school_budget,\n",
    "                               \"Average Maths Score\": average_maths_score,\"Average Reading Score\": average_reading_score,\n",
    "                               \"% Passing Maths\": students_passing_maths,\"% Passing Reading\": students_passing_reading,\"% Overall Passing\": overall_passing })\n",
    "\n",
    "\n",
    "\n",
    "\n",
    "school_summary_df  = school_summary_df [[\"School Type\", \n",
    "                          \"Total Students\", \n",
    "                          \"Total School Budget\", \n",
    "                          \"Per Student Budget\", \n",
    "                          \"Average Maths Score\", \n",
    "                          \"Average Reading Score\",\n",
    "                          \"% Passing Maths\",\n",
    "                          \"% Passing Reading\",\n",
    "                          \"% Overall Passing\"]]\n",
    "\n",
    "school_summary_df .style.format({'Total Students': '{:}',\n",
    "                          \"Total School Budget\": \"${:,.2f}\",\n",
    "                          \"Per Student Budget\": \"${:.2f}\",\n",
    "                          'Average Maths Score': \"{:6f}\", \n",
    "                          'Average Reading Score': \"{:6f}\", \n",
    "                          \"% Passing Maths\": \"{:6f}\", \n",
    "                          \"% Passing Reading\": \"{:6f}\"})\n",
    "\n",
    "\n",
    "\n",
    "\n",
    "                          \n",
    "\n"
   ]
  },
  {
   "cell_type": "markdown",
   "metadata": {},
   "source": [
    "## Top Performing Schools (By % Overall Passing)"
   ]
  },
  {
   "cell_type": "markdown",
   "metadata": {},
   "source": [
    "* Sort and display the top five performing schools by % overall passing."
   ]
  },
  {
   "cell_type": "code",
   "execution_count": 262,
   "metadata": {
    "scrolled": true
   },
   "outputs": [
    {
     "data": {
      "text/html": [
       "<div>\n",
       "<style scoped>\n",
       "    .dataframe tbody tr th:only-of-type {\n",
       "        vertical-align: middle;\n",
       "    }\n",
       "\n",
       "    .dataframe tbody tr th {\n",
       "        vertical-align: top;\n",
       "    }\n",
       "\n",
       "    .dataframe thead th {\n",
       "        text-align: right;\n",
       "    }\n",
       "</style>\n",
       "<table border=\"1\" class=\"dataframe\">\n",
       "  <thead>\n",
       "    <tr style=\"text-align: right;\">\n",
       "      <th></th>\n",
       "      <th>School Type</th>\n",
       "      <th>Total Students</th>\n",
       "      <th>Total School Budget</th>\n",
       "      <th>Per Student Budget</th>\n",
       "      <th>Average Maths Score</th>\n",
       "      <th>Average Reading Score</th>\n",
       "      <th>% Passing Maths</th>\n",
       "      <th>% Passing Reading</th>\n",
       "      <th>% Overall Passing</th>\n",
       "    </tr>\n",
       "    <tr>\n",
       "      <th>school_name</th>\n",
       "      <th></th>\n",
       "      <th></th>\n",
       "      <th></th>\n",
       "      <th></th>\n",
       "      <th></th>\n",
       "      <th></th>\n",
       "      <th></th>\n",
       "      <th></th>\n",
       "      <th></th>\n",
       "    </tr>\n",
       "  </thead>\n",
       "  <tbody>\n",
       "    <tr>\n",
       "      <th>Griffin High School</th>\n",
       "      <td>Independent</td>\n",
       "      <td>1468</td>\n",
       "      <td>917500</td>\n",
       "      <td>625.0</td>\n",
       "      <td>71.788147</td>\n",
       "      <td>71.245232</td>\n",
       "      <td>91.212534</td>\n",
       "      <td>88.487738</td>\n",
       "      <td>81.335150</td>\n",
       "    </tr>\n",
       "    <tr>\n",
       "      <th>Cabrera High School</th>\n",
       "      <td>Independent</td>\n",
       "      <td>1858</td>\n",
       "      <td>1081356</td>\n",
       "      <td>582.0</td>\n",
       "      <td>71.657158</td>\n",
       "      <td>71.359526</td>\n",
       "      <td>90.850377</td>\n",
       "      <td>89.074273</td>\n",
       "      <td>80.785791</td>\n",
       "    </tr>\n",
       "    <tr>\n",
       "      <th>Bailey High School</th>\n",
       "      <td>Government</td>\n",
       "      <td>4976</td>\n",
       "      <td>3124928</td>\n",
       "      <td>628.0</td>\n",
       "      <td>72.352894</td>\n",
       "      <td>71.008842</td>\n",
       "      <td>91.639871</td>\n",
       "      <td>87.379421</td>\n",
       "      <td>80.084405</td>\n",
       "    </tr>\n",
       "    <tr>\n",
       "      <th>Wright High School</th>\n",
       "      <td>Independent</td>\n",
       "      <td>1800</td>\n",
       "      <td>1049400</td>\n",
       "      <td>583.0</td>\n",
       "      <td>72.047222</td>\n",
       "      <td>70.969444</td>\n",
       "      <td>91.777778</td>\n",
       "      <td>86.666667</td>\n",
       "      <td>79.722222</td>\n",
       "    </tr>\n",
       "    <tr>\n",
       "      <th>Rodriguez High School</th>\n",
       "      <td>Government</td>\n",
       "      <td>3999</td>\n",
       "      <td>2547363</td>\n",
       "      <td>637.0</td>\n",
       "      <td>72.047762</td>\n",
       "      <td>70.935984</td>\n",
       "      <td>90.797699</td>\n",
       "      <td>87.396849</td>\n",
       "      <td>79.419855</td>\n",
       "    </tr>\n",
       "  </tbody>\n",
       "</table>\n",
       "</div>"
      ],
      "text/plain": [
       "                       School Type  Total Students  Total School Budget  \\\n",
       "school_name                                                               \n",
       "Griffin High School    Independent            1468               917500   \n",
       "Cabrera High School    Independent            1858              1081356   \n",
       "Bailey High School      Government            4976              3124928   \n",
       "Wright High School     Independent            1800              1049400   \n",
       "Rodriguez High School   Government            3999              2547363   \n",
       "\n",
       "                       Per Student Budget  Average Maths Score  \\\n",
       "school_name                                                      \n",
       "Griffin High School                 625.0            71.788147   \n",
       "Cabrera High School                 582.0            71.657158   \n",
       "Bailey High School                  628.0            72.352894   \n",
       "Wright High School                  583.0            72.047222   \n",
       "Rodriguez High School               637.0            72.047762   \n",
       "\n",
       "                       Average Reading Score  % Passing Maths  \\\n",
       "school_name                                                     \n",
       "Griffin High School                71.245232        91.212534   \n",
       "Cabrera High School                71.359526        90.850377   \n",
       "Bailey High School                 71.008842        91.639871   \n",
       "Wright High School                 70.969444        91.777778   \n",
       "Rodriguez High School              70.935984        90.797699   \n",
       "\n",
       "                       % Passing Reading  % Overall Passing  \n",
       "school_name                                                  \n",
       "Griffin High School            88.487738          81.335150  \n",
       "Cabrera High School            89.074273          80.785791  \n",
       "Bailey High School             87.379421          80.084405  \n",
       "Wright High School             86.666667          79.722222  \n",
       "Rodriguez High School          87.396849          79.419855  "
      ]
     },
     "execution_count": 262,
     "metadata": {},
     "output_type": "execute_result"
    }
   ],
   "source": [
    "top_performing_df = school_summary_df .sort_values(\"% Overall Passing\", ascending = False)\n",
    "top_performing_df.head ()\n",
    "\n"
   ]
  },
  {
   "cell_type": "markdown",
   "metadata": {},
   "source": [
    "## Bottom Performing Schools (By % Overall Passing)"
   ]
  },
  {
   "cell_type": "markdown",
   "metadata": {},
   "source": [
    "* Sort and display the five worst-performing schools by % overall passing."
   ]
  },
  {
   "cell_type": "code",
   "execution_count": 263,
   "metadata": {},
   "outputs": [
    {
     "data": {
      "text/html": [
       "<div>\n",
       "<style scoped>\n",
       "    .dataframe tbody tr th:only-of-type {\n",
       "        vertical-align: middle;\n",
       "    }\n",
       "\n",
       "    .dataframe tbody tr th {\n",
       "        vertical-align: top;\n",
       "    }\n",
       "\n",
       "    .dataframe thead th {\n",
       "        text-align: right;\n",
       "    }\n",
       "</style>\n",
       "<table border=\"1\" class=\"dataframe\">\n",
       "  <thead>\n",
       "    <tr style=\"text-align: right;\">\n",
       "      <th></th>\n",
       "      <th>School Type</th>\n",
       "      <th>Total Students</th>\n",
       "      <th>Total School Budget</th>\n",
       "      <th>Per Student Budget</th>\n",
       "      <th>Average Maths Score</th>\n",
       "      <th>Average Reading Score</th>\n",
       "      <th>% Passing Maths</th>\n",
       "      <th>% Passing Reading</th>\n",
       "      <th>% Overall Passing</th>\n",
       "    </tr>\n",
       "    <tr>\n",
       "      <th>school_name</th>\n",
       "      <th></th>\n",
       "      <th></th>\n",
       "      <th></th>\n",
       "      <th></th>\n",
       "      <th></th>\n",
       "      <th></th>\n",
       "      <th></th>\n",
       "      <th></th>\n",
       "      <th></th>\n",
       "    </tr>\n",
       "  </thead>\n",
       "  <tbody>\n",
       "    <tr>\n",
       "      <th>Hernandez High School</th>\n",
       "      <td>Government</td>\n",
       "      <td>4635</td>\n",
       "      <td>3022020</td>\n",
       "      <td>652.0</td>\n",
       "      <td>68.874865</td>\n",
       "      <td>69.186408</td>\n",
       "      <td>80.949299</td>\n",
       "      <td>81.877023</td>\n",
       "      <td>66.364617</td>\n",
       "    </tr>\n",
       "    <tr>\n",
       "      <th>Huang High School</th>\n",
       "      <td>Government</td>\n",
       "      <td>2917</td>\n",
       "      <td>1910635</td>\n",
       "      <td>655.0</td>\n",
       "      <td>68.935207</td>\n",
       "      <td>68.910525</td>\n",
       "      <td>81.693521</td>\n",
       "      <td>81.453548</td>\n",
       "      <td>66.712376</td>\n",
       "    </tr>\n",
       "    <tr>\n",
       "      <th>Johnson High School</th>\n",
       "      <td>Government</td>\n",
       "      <td>4761</td>\n",
       "      <td>3094650</td>\n",
       "      <td>650.0</td>\n",
       "      <td>68.843100</td>\n",
       "      <td>69.039277</td>\n",
       "      <td>82.062592</td>\n",
       "      <td>81.978576</td>\n",
       "      <td>67.191766</td>\n",
       "    </tr>\n",
       "    <tr>\n",
       "      <th>Wilson High School</th>\n",
       "      <td>Independent</td>\n",
       "      <td>2283</td>\n",
       "      <td>1319574</td>\n",
       "      <td>578.0</td>\n",
       "      <td>69.170828</td>\n",
       "      <td>68.876916</td>\n",
       "      <td>82.785808</td>\n",
       "      <td>81.296540</td>\n",
       "      <td>67.455103</td>\n",
       "    </tr>\n",
       "    <tr>\n",
       "      <th>Ford High School</th>\n",
       "      <td>Government</td>\n",
       "      <td>2739</td>\n",
       "      <td>1763916</td>\n",
       "      <td>644.0</td>\n",
       "      <td>69.091274</td>\n",
       "      <td>69.572472</td>\n",
       "      <td>82.438846</td>\n",
       "      <td>82.219788</td>\n",
       "      <td>67.469880</td>\n",
       "    </tr>\n",
       "  </tbody>\n",
       "</table>\n",
       "</div>"
      ],
      "text/plain": [
       "                       School Type  Total Students  Total School Budget  \\\n",
       "school_name                                                               \n",
       "Hernandez High School   Government            4635              3022020   \n",
       "Huang High School       Government            2917              1910635   \n",
       "Johnson High School     Government            4761              3094650   \n",
       "Wilson High School     Independent            2283              1319574   \n",
       "Ford High School        Government            2739              1763916   \n",
       "\n",
       "                       Per Student Budget  Average Maths Score  \\\n",
       "school_name                                                      \n",
       "Hernandez High School               652.0            68.874865   \n",
       "Huang High School                   655.0            68.935207   \n",
       "Johnson High School                 650.0            68.843100   \n",
       "Wilson High School                  578.0            69.170828   \n",
       "Ford High School                    644.0            69.091274   \n",
       "\n",
       "                       Average Reading Score  % Passing Maths  \\\n",
       "school_name                                                     \n",
       "Hernandez High School              69.186408        80.949299   \n",
       "Huang High School                  68.910525        81.693521   \n",
       "Johnson High School                69.039277        82.062592   \n",
       "Wilson High School                 68.876916        82.785808   \n",
       "Ford High School                   69.572472        82.438846   \n",
       "\n",
       "                       % Passing Reading  % Overall Passing  \n",
       "school_name                                                  \n",
       "Hernandez High School          81.877023          66.364617  \n",
       "Huang High School              81.453548          66.712376  \n",
       "Johnson High School            81.978576          67.191766  \n",
       "Wilson High School             81.296540          67.455103  \n",
       "Ford High School               82.219788          67.469880  "
      ]
     },
     "execution_count": 263,
     "metadata": {},
     "output_type": "execute_result"
    }
   ],
   "source": [
    "worst_performing_df =school_summary_df .sort_values(\"% Overall Passing\", ascending = True)\n",
    "worst_performing_df.head ()"
   ]
  },
  {
   "cell_type": "markdown",
   "metadata": {},
   "source": [
    "## Maths Scores by Year"
   ]
  },
  {
   "cell_type": "markdown",
   "metadata": {},
   "source": [
    "* Create a table that lists the average maths score for students of each year level (9, 10, 11, 12) at each school.\n",
    "\n",
    "  * Create a pandas series for each year. Hint: use a conditional statement.\n",
    "  \n",
    "  * Group each series by school\n",
    "  \n",
    "  * Combine the series into a dataframe\n",
    "  \n",
    "  * Optional: give the displayed data cleaner formatting"
   ]
  },
  {
   "cell_type": "code",
   "execution_count": 264,
   "metadata": {},
   "outputs": [
    {
     "data": {
      "text/html": [
       "<div>\n",
       "<style scoped>\n",
       "    .dataframe tbody tr th:only-of-type {\n",
       "        vertical-align: middle;\n",
       "    }\n",
       "\n",
       "    .dataframe tbody tr th {\n",
       "        vertical-align: top;\n",
       "    }\n",
       "\n",
       "    .dataframe thead th {\n",
       "        text-align: right;\n",
       "    }\n",
       "</style>\n",
       "<table border=\"1\" class=\"dataframe\">\n",
       "  <thead>\n",
       "    <tr style=\"text-align: right;\">\n",
       "      <th></th>\n",
       "      <th>Year 9</th>\n",
       "      <th>Year 10</th>\n",
       "      <th>Year 11</th>\n",
       "      <th>Year 12</th>\n",
       "    </tr>\n",
       "    <tr>\n",
       "      <th>school_name</th>\n",
       "      <th></th>\n",
       "      <th></th>\n",
       "      <th></th>\n",
       "      <th></th>\n",
       "    </tr>\n",
       "  </thead>\n",
       "  <tbody>\n",
       "    <tr>\n",
       "      <th>Bailey High School</th>\n",
       "      <td>72.493827</td>\n",
       "      <td>71.897498</td>\n",
       "      <td>72.374900</td>\n",
       "      <td>72.675097</td>\n",
       "    </tr>\n",
       "    <tr>\n",
       "      <th>Cabrera High School</th>\n",
       "      <td>72.321970</td>\n",
       "      <td>72.437768</td>\n",
       "      <td>71.008299</td>\n",
       "      <td>70.604712</td>\n",
       "    </tr>\n",
       "    <tr>\n",
       "      <th>Figueroa High School</th>\n",
       "      <td>68.477804</td>\n",
       "      <td>68.331586</td>\n",
       "      <td>68.811001</td>\n",
       "      <td>69.325282</td>\n",
       "    </tr>\n",
       "    <tr>\n",
       "      <th>Ford High School</th>\n",
       "      <td>69.021609</td>\n",
       "      <td>69.387006</td>\n",
       "      <td>69.248862</td>\n",
       "      <td>68.617811</td>\n",
       "    </tr>\n",
       "    <tr>\n",
       "      <th>Griffin High School</th>\n",
       "      <td>72.789731</td>\n",
       "      <td>71.093596</td>\n",
       "      <td>71.692521</td>\n",
       "      <td>71.469178</td>\n",
       "    </tr>\n",
       "    <tr>\n",
       "      <th>Hernandez High School</th>\n",
       "      <td>68.586831</td>\n",
       "      <td>68.867156</td>\n",
       "      <td>69.154412</td>\n",
       "      <td>68.985075</td>\n",
       "    </tr>\n",
       "    <tr>\n",
       "      <th>Holden High School</th>\n",
       "      <td>70.543307</td>\n",
       "      <td>75.105263</td>\n",
       "      <td>71.640777</td>\n",
       "      <td>73.409639</td>\n",
       "    </tr>\n",
       "    <tr>\n",
       "      <th>Huang High School</th>\n",
       "      <td>69.081754</td>\n",
       "      <td>68.533246</td>\n",
       "      <td>69.431345</td>\n",
       "      <td>68.639316</td>\n",
       "    </tr>\n",
       "    <tr>\n",
       "      <th>Johnson High School</th>\n",
       "      <td>69.469286</td>\n",
       "      <td>67.990220</td>\n",
       "      <td>68.637730</td>\n",
       "      <td>69.287393</td>\n",
       "    </tr>\n",
       "    <tr>\n",
       "      <th>Pena High School</th>\n",
       "      <td>71.996364</td>\n",
       "      <td>72.396000</td>\n",
       "      <td>72.523438</td>\n",
       "      <td>71.187845</td>\n",
       "    </tr>\n",
       "    <tr>\n",
       "      <th>Rodriguez High School</th>\n",
       "      <td>71.940722</td>\n",
       "      <td>71.779808</td>\n",
       "      <td>72.364811</td>\n",
       "      <td>72.154626</td>\n",
       "    </tr>\n",
       "    <tr>\n",
       "      <th>Shelton High School</th>\n",
       "      <td>72.932075</td>\n",
       "      <td>72.506696</td>\n",
       "      <td>70.097087</td>\n",
       "      <td>72.331536</td>\n",
       "    </tr>\n",
       "    <tr>\n",
       "      <th>Thomas High School</th>\n",
       "      <td>69.234273</td>\n",
       "      <td>70.057007</td>\n",
       "      <td>69.657831</td>\n",
       "      <td>69.369822</td>\n",
       "    </tr>\n",
       "    <tr>\n",
       "      <th>Wilson High School</th>\n",
       "      <td>69.212361</td>\n",
       "      <td>69.455446</td>\n",
       "      <td>68.378965</td>\n",
       "      <td>69.787472</td>\n",
       "    </tr>\n",
       "    <tr>\n",
       "      <th>Wright High School</th>\n",
       "      <td>71.741176</td>\n",
       "      <td>72.179012</td>\n",
       "      <td>73.275862</td>\n",
       "      <td>70.848238</td>\n",
       "    </tr>\n",
       "  </tbody>\n",
       "</table>\n",
       "</div>"
      ],
      "text/plain": [
       "                          Year 9    Year 10    Year 11    Year 12\n",
       "school_name                                                      \n",
       "Bailey High School     72.493827  71.897498  72.374900  72.675097\n",
       "Cabrera High School    72.321970  72.437768  71.008299  70.604712\n",
       "Figueroa High School   68.477804  68.331586  68.811001  69.325282\n",
       "Ford High School       69.021609  69.387006  69.248862  68.617811\n",
       "Griffin High School    72.789731  71.093596  71.692521  71.469178\n",
       "Hernandez High School  68.586831  68.867156  69.154412  68.985075\n",
       "Holden High School     70.543307  75.105263  71.640777  73.409639\n",
       "Huang High School      69.081754  68.533246  69.431345  68.639316\n",
       "Johnson High School    69.469286  67.990220  68.637730  69.287393\n",
       "Pena High School       71.996364  72.396000  72.523438  71.187845\n",
       "Rodriguez High School  71.940722  71.779808  72.364811  72.154626\n",
       "Shelton High School    72.932075  72.506696  70.097087  72.331536\n",
       "Thomas High School     69.234273  70.057007  69.657831  69.369822\n",
       "Wilson High School     69.212361  69.455446  68.378965  69.787472\n",
       "Wright High School     71.741176  72.179012  73.275862  70.848238"
      ]
     },
     "execution_count": 264,
     "metadata": {},
     "output_type": "execute_result"
    }
   ],
   "source": [
    "ninth_average_maths = student_data.loc[student_data[\"year\"] == 9].groupby(\"school_name\")[\"maths_score\"].mean()\n",
    "tenth_average_maths = student_data.loc[student_data[\"year\"] == 10].groupby (\"school_name\")[\"maths_score\"].mean()\n",
    "eleventh_average_maths = student_data.loc[student_data[\"year\"] == 11].groupby(\"school_name\")[\"maths_score\"].mean()\n",
    "twelfth_average_maths = student_data.loc[student_data[\"year\"] == 12].groupby(\"school_name\")[\"maths_score\"].mean()\n",
    "\n",
    "\n",
    "\n",
    "maths_score = {\n",
    "    'Year 9':ninth_average_maths,\n",
    "    'Year 10':tenth_average_maths,\n",
    "    'Year 11':eleventh_average_maths,\n",
    "    'Year 12':twelfth_average_maths \n",
    "}\n",
    "\n",
    "maths_score_df = pd.DataFrame(maths_score)\n",
    "\n",
    "maths_score_df.index.name = \"school_name\"\n",
    "maths_score_df\n"
   ]
  },
  {
   "cell_type": "markdown",
   "metadata": {},
   "source": [
    "## Reading Score by Year"
   ]
  },
  {
   "cell_type": "markdown",
   "metadata": {},
   "source": [
    "* Perform the same operations as above for reading scores"
   ]
  },
  {
   "cell_type": "code",
   "execution_count": 265,
   "metadata": {},
   "outputs": [
    {
     "data": {
      "text/html": [
       "<div>\n",
       "<style scoped>\n",
       "    .dataframe tbody tr th:only-of-type {\n",
       "        vertical-align: middle;\n",
       "    }\n",
       "\n",
       "    .dataframe tbody tr th {\n",
       "        vertical-align: top;\n",
       "    }\n",
       "\n",
       "    .dataframe thead th {\n",
       "        text-align: right;\n",
       "    }\n",
       "</style>\n",
       "<table border=\"1\" class=\"dataframe\">\n",
       "  <thead>\n",
       "    <tr style=\"text-align: right;\">\n",
       "      <th></th>\n",
       "      <th>Year 9</th>\n",
       "      <th>Year 10</th>\n",
       "      <th>Year 11</th>\n",
       "      <th>Year 12</th>\n",
       "    </tr>\n",
       "    <tr>\n",
       "      <th>school_name</th>\n",
       "      <th></th>\n",
       "      <th></th>\n",
       "      <th></th>\n",
       "      <th></th>\n",
       "    </tr>\n",
       "  </thead>\n",
       "  <tbody>\n",
       "    <tr>\n",
       "      <th>Bailey High School</th>\n",
       "      <td>70.901920</td>\n",
       "      <td>70.848265</td>\n",
       "      <td>70.317346</td>\n",
       "      <td>72.195525</td>\n",
       "    </tr>\n",
       "    <tr>\n",
       "      <th>Cabrera High School</th>\n",
       "      <td>71.172348</td>\n",
       "      <td>71.328326</td>\n",
       "      <td>71.201245</td>\n",
       "      <td>71.856021</td>\n",
       "    </tr>\n",
       "    <tr>\n",
       "      <th>Figueroa High School</th>\n",
       "      <td>70.261682</td>\n",
       "      <td>67.677588</td>\n",
       "      <td>69.152327</td>\n",
       "      <td>69.082126</td>\n",
       "    </tr>\n",
       "    <tr>\n",
       "      <th>Ford High School</th>\n",
       "      <td>69.615846</td>\n",
       "      <td>68.988701</td>\n",
       "      <td>70.735964</td>\n",
       "      <td>68.849722</td>\n",
       "    </tr>\n",
       "    <tr>\n",
       "      <th>Griffin High School</th>\n",
       "      <td>72.026895</td>\n",
       "      <td>70.746305</td>\n",
       "      <td>72.385042</td>\n",
       "      <td>69.434932</td>\n",
       "    </tr>\n",
       "    <tr>\n",
       "      <th>Hernandez High School</th>\n",
       "      <td>68.477569</td>\n",
       "      <td>70.621842</td>\n",
       "      <td>68.418199</td>\n",
       "      <td>69.244136</td>\n",
       "    </tr>\n",
       "    <tr>\n",
       "      <th>Holden High School</th>\n",
       "      <td>71.598425</td>\n",
       "      <td>71.096491</td>\n",
       "      <td>73.310680</td>\n",
       "      <td>70.481928</td>\n",
       "    </tr>\n",
       "    <tr>\n",
       "      <th>Huang High School</th>\n",
       "      <td>68.670616</td>\n",
       "      <td>69.516297</td>\n",
       "      <td>68.740638</td>\n",
       "      <td>68.671795</td>\n",
       "    </tr>\n",
       "    <tr>\n",
       "      <th>Johnson High School</th>\n",
       "      <td>68.719286</td>\n",
       "      <td>69.295029</td>\n",
       "      <td>69.969115</td>\n",
       "      <td>67.992521</td>\n",
       "    </tr>\n",
       "    <tr>\n",
       "      <th>Pena High School</th>\n",
       "      <td>70.949091</td>\n",
       "      <td>72.324000</td>\n",
       "      <td>71.703125</td>\n",
       "      <td>71.513812</td>\n",
       "    </tr>\n",
       "    <tr>\n",
       "      <th>Rodriguez High School</th>\n",
       "      <td>70.902921</td>\n",
       "      <td>70.137500</td>\n",
       "      <td>71.424453</td>\n",
       "      <td>71.414449</td>\n",
       "    </tr>\n",
       "    <tr>\n",
       "      <th>Shelton High School</th>\n",
       "      <td>70.715094</td>\n",
       "      <td>69.879464</td>\n",
       "      <td>71.150485</td>\n",
       "      <td>69.070081</td>\n",
       "    </tr>\n",
       "    <tr>\n",
       "      <th>Thomas High School</th>\n",
       "      <td>69.672451</td>\n",
       "      <td>69.741093</td>\n",
       "      <td>70.749398</td>\n",
       "      <td>68.730769</td>\n",
       "    </tr>\n",
       "    <tr>\n",
       "      <th>Wilson High School</th>\n",
       "      <td>68.683043</td>\n",
       "      <td>68.412541</td>\n",
       "      <td>68.796327</td>\n",
       "      <td>69.888143</td>\n",
       "    </tr>\n",
       "    <tr>\n",
       "      <th>Wright High School</th>\n",
       "      <td>71.823529</td>\n",
       "      <td>71.386831</td>\n",
       "      <td>70.475862</td>\n",
       "      <td>69.821138</td>\n",
       "    </tr>\n",
       "  </tbody>\n",
       "</table>\n",
       "</div>"
      ],
      "text/plain": [
       "                          Year 9    Year 10    Year 11    Year 12\n",
       "school_name                                                      \n",
       "Bailey High School     70.901920  70.848265  70.317346  72.195525\n",
       "Cabrera High School    71.172348  71.328326  71.201245  71.856021\n",
       "Figueroa High School   70.261682  67.677588  69.152327  69.082126\n",
       "Ford High School       69.615846  68.988701  70.735964  68.849722\n",
       "Griffin High School    72.026895  70.746305  72.385042  69.434932\n",
       "Hernandez High School  68.477569  70.621842  68.418199  69.244136\n",
       "Holden High School     71.598425  71.096491  73.310680  70.481928\n",
       "Huang High School      68.670616  69.516297  68.740638  68.671795\n",
       "Johnson High School    68.719286  69.295029  69.969115  67.992521\n",
       "Pena High School       70.949091  72.324000  71.703125  71.513812\n",
       "Rodriguez High School  70.902921  70.137500  71.424453  71.414449\n",
       "Shelton High School    70.715094  69.879464  71.150485  69.070081\n",
       "Thomas High School     69.672451  69.741093  70.749398  68.730769\n",
       "Wilson High School     68.683043  68.412541  68.796327  69.888143\n",
       "Wright High School     71.823529  71.386831  70.475862  69.821138"
      ]
     },
     "execution_count": 265,
     "metadata": {},
     "output_type": "execute_result"
    }
   ],
   "source": [
    "ninth_average_reading = student_data.loc[student_data[\"year\"] == 9].groupby(\"school_name\")[\"reading_score\"].mean()\n",
    "tenth_average_reading = student_data.loc[student_data[\"year\"] == 10].groupby (\"school_name\")[\"reading_score\"].mean()\n",
    "eleventh_average__reading = student_data.loc[student_data[\"year\"] == 11].groupby(\"school_name\")[\"reading_score\"].mean()\n",
    "twelfth_average__reading = student_data.loc[student_data[\"year\"] == 12].groupby(\"school_name\")[\"reading_score\"].mean()\n",
    "\n",
    "\n",
    "\n",
    "read_score = {\n",
    "    'Year 9':ninth_average_reading,\n",
    "    'Year 10':tenth_average_reading ,\n",
    "    'Year 11':eleventh_average__reading,\n",
    "    'Year 12':twelfth_average__reading \n",
    "}\n",
    "\n",
    "read_score_df = pd.DataFrame(read_score)\n",
    "\n",
    "read_score_df.index.name = \"school_name\"\n",
    "read_score_df"
   ]
  },
  {
   "cell_type": "markdown",
   "metadata": {},
   "source": [
    "## Scores by School Spending"
   ]
  },
  {
   "cell_type": "markdown",
   "metadata": {},
   "source": [
    "* Create a table that breaks down school performances based on average Spending Ranges (Per Student). Use 4 reasonable bins to group school spending. Include in the table each of the following:\n",
    "  * Average Maths Score\n",
    "  * Average Reading Score\n",
    "  * % Passing Maths\n",
    "  * % Passing Reading\n",
    "  * Overall Passing Rate (Average of the above two)"
   ]
  },
  {
   "cell_type": "code",
   "execution_count": 266,
   "metadata": {},
   "outputs": [],
   "source": [
    "# Establish the spending bins and group names.\n",
    "spending_bins = [0, 585, 630, 645, 675]\n",
    "group_names =  [\"<$585\", \"$585-630\", \"$630-645\", \"$645-680\"]\n",
    "\n",
    "# Categorize spending based on the bins.\n",
    "school_summary_df [\"Spending Ranges (Per Student)\"] = pd.cut(budget_per_student, spending_bins, labels=group_names)\n",
    "#school_summary_df \n",
    "\n",
    "\n"
   ]
  },
  {
   "cell_type": "code",
   "execution_count": 267,
   "metadata": {
    "tags": []
   },
   "outputs": [
    {
     "name": "stderr",
     "output_type": "stream",
     "text": [
      "C:\\Users\\zjoni\\AppData\\Local\\Temp\\ipykernel_6388\\1003721620.py:3: FutureWarning: The default value of numeric_only in DataFrameGroupBy.mean is deprecated. In a future version, numeric_only will default to False. Either specify numeric_only or select only columns which should be valid for the function.\n",
      "  spending_maths_scores = school_summary_df .groupby([\"Spending Ranges (Per Student)\"]).mean()[\"Average Maths Score\"]\n",
      "C:\\Users\\zjoni\\AppData\\Local\\Temp\\ipykernel_6388\\1003721620.py:4: FutureWarning: The default value of numeric_only in DataFrameGroupBy.mean is deprecated. In a future version, numeric_only will default to False. Either specify numeric_only or select only columns which should be valid for the function.\n",
      "  spending_reading_scores = school_summary_df .groupby([\"Spending Ranges (Per Student)\"]).mean()[\"Average Reading Score\"]\n",
      "C:\\Users\\zjoni\\AppData\\Local\\Temp\\ipykernel_6388\\1003721620.py:5: FutureWarning: The default value of numeric_only in DataFrameGroupBy.mean is deprecated. In a future version, numeric_only will default to False. Either specify numeric_only or select only columns which should be valid for the function.\n",
      "  spending_passing_maths = school_summary_df .groupby([\"Spending Ranges (Per Student)\"]).mean()[\"% Passing Maths\"]\n",
      "C:\\Users\\zjoni\\AppData\\Local\\Temp\\ipykernel_6388\\1003721620.py:6: FutureWarning: The default value of numeric_only in DataFrameGroupBy.mean is deprecated. In a future version, numeric_only will default to False. Either specify numeric_only or select only columns which should be valid for the function.\n",
      "  spending_passing_reading =school_summary_df .groupby([\"Spending Ranges (Per Student)\"]).mean()[\"% Passing Reading\"]\n",
      "C:\\Users\\zjoni\\AppData\\Local\\Temp\\ipykernel_6388\\1003721620.py:7: FutureWarning: The default value of numeric_only in DataFrameGroupBy.mean is deprecated. In a future version, numeric_only will default to False. Either specify numeric_only or select only columns which should be valid for the function.\n",
      "  overall_passing_spending = school_summary_df .groupby([\"Spending Ranges (Per Student)\"]).mean()[\"% Overall Passing\"]\n"
     ]
    }
   ],
   "source": [
    "# Calculate averages for the desired columns.\n",
    "\n",
    "spending_maths_scores = school_summary_df .groupby([\"Spending Ranges (Per Student)\"]).mean()[\"Average Maths Score\"]\n",
    "spending_reading_scores = school_summary_df .groupby([\"Spending Ranges (Per Student)\"]).mean()[\"Average Reading Score\"]\n",
    "spending_passing_maths = school_summary_df .groupby([\"Spending Ranges (Per Student)\"]).mean()[\"% Passing Maths\"]\n",
    "spending_passing_reading =school_summary_df .groupby([\"Spending Ranges (Per Student)\"]).mean()[\"% Passing Reading\"]\n",
    "overall_passing_spending = school_summary_df .groupby([\"Spending Ranges (Per Student)\"]).mean()[\"% Overall Passing\"]\n"
   ]
  },
  {
   "cell_type": "code",
   "execution_count": 268,
   "metadata": {
    "tags": []
   },
   "outputs": [],
   "source": [
    "# Assemble into DataFrame.\n",
    "\n",
    "spending_summary_df = pd.DataFrame({\n",
    "          \"Average Maths Score\" : spending_maths_scores,\n",
    "          \"Average Reading Score\": spending_reading_scores,\n",
    "          \"% Passing Maths\": spending_passing_maths,\n",
    "          \"% Passing Reading\": spending_passing_reading,\n",
    "          \"% Overall Passing\": overall_passing_spending})\n"
   ]
  },
  {
   "cell_type": "code",
   "execution_count": 269,
   "metadata": {
    "tags": []
   },
   "outputs": [
    {
     "data": {
      "text/html": [
       "<style type=\"text/css\">\n",
       "</style>\n",
       "<table id=\"T_23ce1\">\n",
       "  <thead>\n",
       "    <tr>\n",
       "      <th class=\"blank level0\" >&nbsp;</th>\n",
       "      <th id=\"T_23ce1_level0_col0\" class=\"col_heading level0 col0\" >Average Maths Score</th>\n",
       "      <th id=\"T_23ce1_level0_col1\" class=\"col_heading level0 col1\" >Average Reading Score</th>\n",
       "      <th id=\"T_23ce1_level0_col2\" class=\"col_heading level0 col2\" >% Passing Maths</th>\n",
       "      <th id=\"T_23ce1_level0_col3\" class=\"col_heading level0 col3\" >% Passing Reading</th>\n",
       "      <th id=\"T_23ce1_level0_col4\" class=\"col_heading level0 col4\" >% Overall Passing</th>\n",
       "    </tr>\n",
       "    <tr>\n",
       "      <th class=\"index_name level0\" >Spending Ranges (Per Student)</th>\n",
       "      <th class=\"blank col0\" >&nbsp;</th>\n",
       "      <th class=\"blank col1\" >&nbsp;</th>\n",
       "      <th class=\"blank col2\" >&nbsp;</th>\n",
       "      <th class=\"blank col3\" >&nbsp;</th>\n",
       "      <th class=\"blank col4\" >&nbsp;</th>\n",
       "    </tr>\n",
       "  </thead>\n",
       "  <tbody>\n",
       "    <tr>\n",
       "      <th id=\"T_23ce1_level0_row0\" class=\"row_heading level0 row0\" ><$585</th>\n",
       "      <td id=\"T_23ce1_row0_col0\" class=\"data row0 col0\" >71.36</td>\n",
       "      <td id=\"T_23ce1_row0_col1\" class=\"data row0 col1\" >70.72</td>\n",
       "      <td id=\"T_23ce1_row0_col2\" class=\"data row0 col2\" >88.84</td>\n",
       "      <td id=\"T_23ce1_row0_col3\" class=\"data row0 col3\" >86.39</td>\n",
       "      <td id=\"T_23ce1_row0_col4\" class=\"data row0 col4\" >76.72</td>\n",
       "    </tr>\n",
       "    <tr>\n",
       "      <th id=\"T_23ce1_level0_row1\" class=\"row_heading level0 row1\" >$585-630</th>\n",
       "      <td id=\"T_23ce1_row1_col0\" class=\"data row1 col0\" >72.07</td>\n",
       "      <td id=\"T_23ce1_row1_col1\" class=\"data row1 col1\" >71.03</td>\n",
       "      <td id=\"T_23ce1_row1_col2\" class=\"data row1 col2\" >91.52</td>\n",
       "      <td id=\"T_23ce1_row1_col3\" class=\"data row1 col3\" >87.29</td>\n",
       "      <td id=\"T_23ce1_row1_col4\" class=\"data row1 col4\" >79.88</td>\n",
       "    </tr>\n",
       "    <tr>\n",
       "      <th id=\"T_23ce1_level0_row2\" class=\"row_heading level0 row2\" >$630-645</th>\n",
       "      <td id=\"T_23ce1_row2_col0\" class=\"data row2 col0\" >69.85</td>\n",
       "      <td id=\"T_23ce1_row2_col1\" class=\"data row2 col1\" >69.84</td>\n",
       "      <td id=\"T_23ce1_row2_col2\" class=\"data row2 col2\" >84.69</td>\n",
       "      <td id=\"T_23ce1_row2_col3\" class=\"data row2 col3\" >83.76</td>\n",
       "      <td id=\"T_23ce1_row2_col4\" class=\"data row2 col4\" >71.00</td>\n",
       "    </tr>\n",
       "    <tr>\n",
       "      <th id=\"T_23ce1_level0_row3\" class=\"row_heading level0 row3\" >$645-680</th>\n",
       "      <td id=\"T_23ce1_row3_col0\" class=\"data row3 col0\" >68.88</td>\n",
       "      <td id=\"T_23ce1_row3_col1\" class=\"data row3 col1\" >69.05</td>\n",
       "      <td id=\"T_23ce1_row3_col2\" class=\"data row3 col2\" >81.57</td>\n",
       "      <td id=\"T_23ce1_row3_col3\" class=\"data row3 col3\" >81.77</td>\n",
       "      <td id=\"T_23ce1_row3_col4\" class=\"data row3 col4\" >66.76</td>\n",
       "    </tr>\n",
       "  </tbody>\n",
       "</table>\n"
      ],
      "text/plain": [
       "<pandas.io.formats.style.Styler at 0x1f2cb0bf450>"
      ]
     },
     "execution_count": 269,
     "metadata": {},
     "output_type": "execute_result"
    }
   ],
   "source": [
    "#formating\n",
    "spending_summary_df.style.format({'Average Maths Score': '{:.2f}', \n",
    "                              'Average Reading Score': '{:.2f}', \n",
    "                              '% Passing Maths': '{:.2f}', \n",
    "                              '% Passing Reading':'{:.2f}', \n",
    "                              '% Overall Passing': '{:.2f}'})\n"
   ]
  },
  {
   "cell_type": "markdown",
   "metadata": {},
   "source": [
    "## Scores by School Size"
   ]
  },
  {
   "cell_type": "markdown",
   "metadata": {},
   "source": [
    "* Perform the same operations as above, based on school size."
   ]
  },
  {
   "cell_type": "code",
   "execution_count": 270,
   "metadata": {
    "scrolled": true
   },
   "outputs": [],
   "source": [
    "\n",
    "# create size bins\n",
    "\n",
    "bins = [0, 1000, 2000, 5000]\n",
    "labels = [\"Small (<1000)\", \"Medium (1000-2000)\", \"Large (2000-5000)\"]\n",
    "\n",
    "# Categorize spending based on the bins.\n",
    "school_summary_df [\"School Size\"] = pd.cut(school_summary_df [\"Total Students\"],bins, labels =labels)\n",
    "#school_summary_df \n"
   ]
  },
  {
   "cell_type": "code",
   "execution_count": 271,
   "metadata": {
    "tags": []
   },
   "outputs": [
    {
     "name": "stderr",
     "output_type": "stream",
     "text": [
      "C:\\Users\\zjoni\\AppData\\Local\\Temp\\ipykernel_6388\\1027552483.py:2: FutureWarning: The default value of numeric_only in DataFrameGroupBy.mean is deprecated. In a future version, numeric_only will default to False. Either specify numeric_only or select only columns which should be valid for the function.\n",
      "  size_maths_scores = school_summary_df .groupby([\"School Size\"]).mean()[\"Average Maths Score\"]\n",
      "C:\\Users\\zjoni\\AppData\\Local\\Temp\\ipykernel_6388\\1027552483.py:3: FutureWarning: The default value of numeric_only in DataFrameGroupBy.mean is deprecated. In a future version, numeric_only will default to False. Either specify numeric_only or select only columns which should be valid for the function.\n",
      "  size_reading_scores = school_summary_df.groupby([\"School Size\"]).mean()[\"Average Reading Score\"]\n",
      "C:\\Users\\zjoni\\AppData\\Local\\Temp\\ipykernel_6388\\1027552483.py:4: FutureWarning: The default value of numeric_only in DataFrameGroupBy.mean is deprecated. In a future version, numeric_only will default to False. Either specify numeric_only or select only columns which should be valid for the function.\n",
      "  size_passing_maths =school_summary_df .groupby([\"School Size\"]).mean()[\"% Passing Maths\"]\n",
      "C:\\Users\\zjoni\\AppData\\Local\\Temp\\ipykernel_6388\\1027552483.py:5: FutureWarning: The default value of numeric_only in DataFrameGroupBy.mean is deprecated. In a future version, numeric_only will default to False. Either specify numeric_only or select only columns which should be valid for the function.\n",
      "  size_passing_reading = school_summary_df .groupby([\"School Size\"]).mean()[\"% Passing Reading\"]\n",
      "C:\\Users\\zjoni\\AppData\\Local\\Temp\\ipykernel_6388\\1027552483.py:6: FutureWarning: The default value of numeric_only in DataFrameGroupBy.mean is deprecated. In a future version, numeric_only will default to False. Either specify numeric_only or select only columns which should be valid for the function.\n",
      "  size_overall_passing = school_summary_df .groupby([\"School Size\"]).mean()[\"% Overall Passing\"]\n"
     ]
    }
   ],
   "source": [
    "# Calculate averages for the desired columns.\n",
    "size_maths_scores = school_summary_df .groupby([\"School Size\"]).mean()[\"Average Maths Score\"]\n",
    "size_reading_scores = school_summary_df.groupby([\"School Size\"]).mean()[\"Average Reading Score\"]\n",
    "size_passing_maths =school_summary_df .groupby([\"School Size\"]).mean()[\"% Passing Maths\"]\n",
    "size_passing_reading = school_summary_df .groupby([\"School Size\"]).mean()[\"% Passing Reading\"]\n",
    "size_overall_passing = school_summary_df .groupby([\"School Size\"]).mean()[\"% Overall Passing\"]"
   ]
  },
  {
   "cell_type": "code",
   "execution_count": 272,
   "metadata": {
    "tags": []
   },
   "outputs": [],
   "source": [
    "# Assemble into DataFrame. \n",
    "size_summary_df = pd.DataFrame({\n",
    "          \"Average Maths Score\" : size_maths_scores,\n",
    "          \"Average Reading Score\": size_reading_scores,\n",
    "          \"% Passing Maths\": size_passing_maths,\n",
    "          \"% Passing Reading\": size_passing_reading,\n",
    "          \"% Overall Passing\": size_overall_passing})"
   ]
  },
  {
   "cell_type": "code",
   "execution_count": 273,
   "metadata": {
    "tags": []
   },
   "outputs": [
    {
     "data": {
      "text/html": [
       "<style type=\"text/css\">\n",
       "</style>\n",
       "<table id=\"T_36a0c\">\n",
       "  <thead>\n",
       "    <tr>\n",
       "      <th class=\"blank level0\" >&nbsp;</th>\n",
       "      <th id=\"T_36a0c_level0_col0\" class=\"col_heading level0 col0\" >Average Maths Score</th>\n",
       "      <th id=\"T_36a0c_level0_col1\" class=\"col_heading level0 col1\" >Average Reading Score</th>\n",
       "      <th id=\"T_36a0c_level0_col2\" class=\"col_heading level0 col2\" >% Passing Maths</th>\n",
       "      <th id=\"T_36a0c_level0_col3\" class=\"col_heading level0 col3\" >% Passing Reading</th>\n",
       "      <th id=\"T_36a0c_level0_col4\" class=\"col_heading level0 col4\" >% Overall Passing</th>\n",
       "    </tr>\n",
       "    <tr>\n",
       "      <th class=\"index_name level0\" >School Size</th>\n",
       "      <th class=\"blank col0\" >&nbsp;</th>\n",
       "      <th class=\"blank col1\" >&nbsp;</th>\n",
       "      <th class=\"blank col2\" >&nbsp;</th>\n",
       "      <th class=\"blank col3\" >&nbsp;</th>\n",
       "      <th class=\"blank col4\" >&nbsp;</th>\n",
       "    </tr>\n",
       "  </thead>\n",
       "  <tbody>\n",
       "    <tr>\n",
       "      <th id=\"T_36a0c_level0_row0\" class=\"row_heading level0 row0\" >Small (<1000)</th>\n",
       "      <td id=\"T_36a0c_row0_col0\" class=\"data row0 col0\" >72.335748</td>\n",
       "      <td id=\"T_36a0c_row0_col1\" class=\"data row0 col1\" >71.636864</td>\n",
       "      <td id=\"T_36a0c_row0_col2\" class=\"data row0 col2\" >90.806867</td>\n",
       "      <td id=\"T_36a0c_row0_col3\" class=\"data row0 col3\" >87.557513</td>\n",
       "      <td id=\"T_36a0c_row0_col4\" class=\"data row0 col4\" >79.066348</td>\n",
       "    </tr>\n",
       "    <tr>\n",
       "      <th id=\"T_36a0c_level0_row1\" class=\"row_heading level0 row1\" >Medium (1000-2000)</th>\n",
       "      <td id=\"T_36a0c_row1_col0\" class=\"data row1 col0\" >71.421650</td>\n",
       "      <td id=\"T_36a0c_row1_col1\" class=\"data row1 col1\" >70.720164</td>\n",
       "      <td id=\"T_36a0c_row1_col2\" class=\"data row1 col2\" >89.846560</td>\n",
       "      <td id=\"T_36a0c_row1_col3\" class=\"data row1 col3\" >86.714149</td>\n",
       "      <td id=\"T_36a0c_row1_col4\" class=\"data row1 col4\" >78.039785</td>\n",
       "    </tr>\n",
       "    <tr>\n",
       "      <th id=\"T_36a0c_level0_row2\" class=\"row_heading level0 row2\" >Large (2000-5000)</th>\n",
       "      <td id=\"T_36a0c_row2_col0\" class=\"data row2 col0\" >69.751809</td>\n",
       "      <td id=\"T_36a0c_row2_col1\" class=\"data row2 col1\" >69.576052</td>\n",
       "      <td id=\"T_36a0c_row2_col2\" class=\"data row2 col2\" >84.252804</td>\n",
       "      <td id=\"T_36a0c_row2_col3\" class=\"data row2 col3\" >83.301185</td>\n",
       "      <td id=\"T_36a0c_row2_col4\" class=\"data row2 col4\" >70.293507</td>\n",
       "    </tr>\n",
       "  </tbody>\n",
       "</table>\n"
      ],
      "text/plain": [
       "<pandas.io.formats.style.Styler at 0x1f2cb0b4310>"
      ]
     },
     "execution_count": 273,
     "metadata": {},
     "output_type": "execute_result"
    }
   ],
   "source": [
    "#formating\n",
    "size_summary_df.style.format({'Average Maths Score': '{:.6f}', \n",
    "                              'Average Reading Score': '{:.6f}', \n",
    "                              '% Passing Maths': '{:.6f}', \n",
    "                              '% Passing Reading':'{:.6f}', \n",
    "                              '% Overall Passing': '{:.6f}'})"
   ]
  },
  {
   "cell_type": "markdown",
   "metadata": {},
   "source": [
    "## Scores by School Type"
   ]
  },
  {
   "cell_type": "markdown",
   "metadata": {},
   "source": [
    "* Perform the same operations as above, based on school type"
   ]
  },
  {
   "cell_type": "code",
   "execution_count": 274,
   "metadata": {},
   "outputs": [
    {
     "name": "stderr",
     "output_type": "stream",
     "text": [
      "C:\\Users\\zjoni\\AppData\\Local\\Temp\\ipykernel_6388\\3174344824.py:2: FutureWarning: The default value of numeric_only in DataFrameGroupBy.mean is deprecated. In a future version, numeric_only will default to False. Either specify numeric_only or select only columns which should be valid for the function.\n",
      "  type_maths_scores = school_summary_df .groupby([\"School Type\"]).mean()[\"Average Maths Score\"]\n",
      "C:\\Users\\zjoni\\AppData\\Local\\Temp\\ipykernel_6388\\3174344824.py:3: FutureWarning: The default value of numeric_only in DataFrameGroupBy.mean is deprecated. In a future version, numeric_only will default to False. Either specify numeric_only or select only columns which should be valid for the function.\n",
      "  type_reading_scores = school_summary_df .groupby([\"School Type\"]).mean()[\"Average Reading Score\"]\n",
      "C:\\Users\\zjoni\\AppData\\Local\\Temp\\ipykernel_6388\\3174344824.py:4: FutureWarning: The default value of numeric_only in DataFrameGroupBy.mean is deprecated. In a future version, numeric_only will default to False. Either specify numeric_only or select only columns which should be valid for the function.\n",
      "  type_passing_maths = school_summary_df .groupby([\"School Type\"]).mean()[\"% Passing Maths\"]\n",
      "C:\\Users\\zjoni\\AppData\\Local\\Temp\\ipykernel_6388\\3174344824.py:5: FutureWarning: The default value of numeric_only in DataFrameGroupBy.mean is deprecated. In a future version, numeric_only will default to False. Either specify numeric_only or select only columns which should be valid for the function.\n",
      "  type_passing_reading =school_summary_df .groupby([\"School Type\"]).mean()[\"% Passing Reading\"]\n",
      "C:\\Users\\zjoni\\AppData\\Local\\Temp\\ipykernel_6388\\3174344824.py:6: FutureWarning: The default value of numeric_only in DataFrameGroupBy.mean is deprecated. In a future version, numeric_only will default to False. Either specify numeric_only or select only columns which should be valid for the function.\n",
      "  type_overall_passing = school_summary_df .groupby([\"School Type\"]).mean()[\"% Overall Passing\"]\n"
     ]
    }
   ],
   "source": [
    "\n",
    "\n",
    "# Calculate averages for the desired columns.\n",
    "type_maths_scores = school_summary_df .groupby([\"School Type\"]).mean()[\"Average Maths Score\"]\n",
    "type_reading_scores = school_summary_df .groupby([\"School Type\"]).mean()[\"Average Reading Score\"]\n",
    "type_passing_maths = school_summary_df .groupby([\"School Type\"]).mean()[\"% Passing Maths\"]\n",
    "type_passing_reading =school_summary_df .groupby([\"School Type\"]).mean()[\"% Passing Reading\"]\n",
    "type_overall_passing = school_summary_df .groupby([\"School Type\"]).mean()[\"% Overall Passing\"]\n",
    "\n",
    "\n"
   ]
  },
  {
   "cell_type": "code",
   "execution_count": 275,
   "metadata": {
    "tags": []
   },
   "outputs": [],
   "source": [
    "# Assemble into DataFrame. \n",
    "type_summary_df = pd.DataFrame({\n",
    "          \"Average Maths Score\" : type_maths_scores,\n",
    "          \"Average Reading Score\":type_reading_scores,\n",
    "          \"% Passing Maths\": type_passing_maths,\n",
    "          \"% Passing Reading\": type_passing_reading,\n",
    "          \"% Overall Passing\": type_overall_passing})"
   ]
  },
  {
   "cell_type": "code",
   "execution_count": 276,
   "metadata": {
    "tags": []
   },
   "outputs": [
    {
     "data": {
      "text/html": [
       "<style type=\"text/css\">\n",
       "</style>\n",
       "<table id=\"T_c72e6\">\n",
       "  <thead>\n",
       "    <tr>\n",
       "      <th class=\"blank level0\" >&nbsp;</th>\n",
       "      <th id=\"T_c72e6_level0_col0\" class=\"col_heading level0 col0\" >Average Maths Score</th>\n",
       "      <th id=\"T_c72e6_level0_col1\" class=\"col_heading level0 col1\" >Average Reading Score</th>\n",
       "      <th id=\"T_c72e6_level0_col2\" class=\"col_heading level0 col2\" >% Passing Maths</th>\n",
       "      <th id=\"T_c72e6_level0_col3\" class=\"col_heading level0 col3\" >% Passing Reading</th>\n",
       "      <th id=\"T_c72e6_level0_col4\" class=\"col_heading level0 col4\" >% Overall Passing</th>\n",
       "    </tr>\n",
       "    <tr>\n",
       "      <th class=\"index_name level0\" >School Type</th>\n",
       "      <th class=\"blank col0\" >&nbsp;</th>\n",
       "      <th class=\"blank col1\" >&nbsp;</th>\n",
       "      <th class=\"blank col2\" >&nbsp;</th>\n",
       "      <th class=\"blank col3\" >&nbsp;</th>\n",
       "      <th class=\"blank col4\" >&nbsp;</th>\n",
       "    </tr>\n",
       "  </thead>\n",
       "  <tbody>\n",
       "    <tr>\n",
       "      <th id=\"T_c72e6_level0_row0\" class=\"row_heading level0 row0\" >Government</th>\n",
       "      <td id=\"T_c72e6_row0_col0\" class=\"data row0 col0\" >69.834806</td>\n",
       "      <td id=\"T_c72e6_row0_col1\" class=\"data row0 col1\" >69.675929</td>\n",
       "      <td id=\"T_c72e6_row0_col2\" class=\"data row0 col2\" >84.462375</td>\n",
       "      <td id=\"T_c72e6_row0_col3\" class=\"data row0 col3\" >83.587562</td>\n",
       "      <td id=\"T_c72e6_row0_col4\" class=\"data row0 col4\" >70.698993</td>\n",
       "    </tr>\n",
       "    <tr>\n",
       "      <th id=\"T_c72e6_level0_row1\" class=\"row_heading level0 row1\" >Independent</th>\n",
       "      <td id=\"T_c72e6_row1_col0\" class=\"data row1 col0\" >71.368822</td>\n",
       "      <td id=\"T_c72e6_row1_col1\" class=\"data row1 col1\" >70.718933</td>\n",
       "      <td id=\"T_c72e6_row1_col2\" class=\"data row1 col2\" >89.204043</td>\n",
       "      <td id=\"T_c72e6_row1_col3\" class=\"data row1 col3\" >86.247789</td>\n",
       "      <td id=\"T_c72e6_row1_col4\" class=\"data row1 col4\" >76.973340</td>\n",
       "    </tr>\n",
       "  </tbody>\n",
       "</table>\n"
      ],
      "text/plain": [
       "<pandas.io.formats.style.Styler at 0x1f2c9900510>"
      ]
     },
     "execution_count": 276,
     "metadata": {},
     "output_type": "execute_result"
    }
   ],
   "source": [
    "#formating\n",
    "type_summary_df.style.format({'Average Maths Score': '{:.6f}', \n",
    "                              'Average Reading Score': '{:.6f}', \n",
    "                              '% Passing Maths': '{:.6f}', \n",
    "                              '% Passing Reading':'{:.6f}', \n",
    "                              '% Overall Passing': '{:.6f}'})"
   ]
  },
  {
   "cell_type": "code",
   "execution_count": null,
   "metadata": {},
   "outputs": [],
   "source": []
  }
 ],
 "metadata": {
  "anaconda-cloud": {},
  "kernel_info": {
   "name": "python3"
  },
  "kernelspec": {
   "display_name": "Python 3 (ipykernel)",
   "language": "python",
   "name": "python3"
  },
  "language_info": {
   "codemirror_mode": {
    "name": "ipython",
    "version": 3
   },
   "file_extension": ".py",
   "mimetype": "text/x-python",
   "name": "python",
   "nbconvert_exporter": "python",
   "pygments_lexer": "ipython3",
   "version": "3.11.3"
  },
  "latex_envs": {
   "LaTeX_envs_menu_present": true,
   "autoclose": false,
   "autocomplete": true,
   "bibliofile": "biblio.bib",
   "cite_by": "apalike",
   "current_citInitial": 1,
   "eqLabelWithNumbers": true,
   "eqNumInitial": 1,
   "hotkeys": {
    "equation": "Ctrl-E",
    "itemize": "Ctrl-I"
   },
   "labels_anchors": false,
   "latex_user_defs": false,
   "report_style_numbering": false,
   "user_envs_cfg": false
  },
  "nteract": {
   "version": "0.8.4"
  }
 },
 "nbformat": 4,
 "nbformat_minor": 4
}
